{
 "cells": [
  {
   "cell_type": "code",
   "execution_count": 1,
   "id": "2cce4e02",
   "metadata": {},
   "outputs": [],
   "source": [
    "import numpy as np\n",
    "import pandas as pd\n",
    "import pickle"
   ]
  },
  {
   "cell_type": "code",
   "execution_count": 2,
   "id": "9b29eea4",
   "metadata": {},
   "outputs": [
    {
     "data": {
      "text/plain": [
       "497577"
      ]
     },
     "execution_count": 2,
     "metadata": {},
     "output_type": "execute_result"
    }
   ],
   "source": [
    "df = pd.read_json('Video_Games_5.json', lines=True) \n",
    "len(df)"
   ]
  },
  {
   "cell_type": "raw",
   "id": "f37b4c77",
   "metadata": {},
   "source": [
    "Fields Description\n",
    "reviewerID - ID of the reviewer, e.g. A2SUAM1J3GNN3B\n",
    "asin - ID of the product, e.g. 0000013714\n",
    "reviewerName - name of the reviewer\n",
    "vote - helpful votes of the review\n",
    "style - a disctionary of the product metadata, e.g., \"Format\" is \"Hardcover\"\n",
    "reviewText - text of the review\n",
    "overall - rating of the product\n",
    "summary - summary of the review\n",
    "unixReviewTime - time of the review (unix time)\n",
    "reviewTime - time of the review (raw)\n",
    "image - images that users post after they have received the product"
   ]
  },
  {
   "cell_type": "code",
   "execution_count": 3,
   "id": "d2f607f0",
   "metadata": {},
   "outputs": [
    {
     "data": {
      "text/html": [
       "<div>\n",
       "<style scoped>\n",
       "    .dataframe tbody tr th:only-of-type {\n",
       "        vertical-align: middle;\n",
       "    }\n",
       "\n",
       "    .dataframe tbody tr th {\n",
       "        vertical-align: top;\n",
       "    }\n",
       "\n",
       "    .dataframe thead th {\n",
       "        text-align: right;\n",
       "    }\n",
       "</style>\n",
       "<table border=\"1\" class=\"dataframe\">\n",
       "  <thead>\n",
       "    <tr style=\"text-align: right;\">\n",
       "      <th></th>\n",
       "      <th>overall</th>\n",
       "      <th>verified</th>\n",
       "      <th>reviewTime</th>\n",
       "      <th>reviewerID</th>\n",
       "      <th>asin</th>\n",
       "      <th>reviewerName</th>\n",
       "      <th>reviewText</th>\n",
       "      <th>summary</th>\n",
       "      <th>unixReviewTime</th>\n",
       "      <th>vote</th>\n",
       "      <th>style</th>\n",
       "      <th>image</th>\n",
       "    </tr>\n",
       "  </thead>\n",
       "  <tbody>\n",
       "    <tr>\n",
       "      <th>0</th>\n",
       "      <td>5</td>\n",
       "      <td>True</td>\n",
       "      <td>10 17, 2015</td>\n",
       "      <td>A1HP7NVNPFMA4N</td>\n",
       "      <td>0700026657</td>\n",
       "      <td>Ambrosia075</td>\n",
       "      <td>This game is a bit hard to get the hang of, bu...</td>\n",
       "      <td>but when you do it's great.</td>\n",
       "      <td>1445040000</td>\n",
       "      <td>NaN</td>\n",
       "      <td>NaN</td>\n",
       "      <td>NaN</td>\n",
       "    </tr>\n",
       "    <tr>\n",
       "      <th>1</th>\n",
       "      <td>4</td>\n",
       "      <td>False</td>\n",
       "      <td>07 27, 2015</td>\n",
       "      <td>A1JGAP0185YJI6</td>\n",
       "      <td>0700026657</td>\n",
       "      <td>travis</td>\n",
       "      <td>I played it a while but it was alright. The st...</td>\n",
       "      <td>But in spite of that it was fun, I liked it</td>\n",
       "      <td>1437955200</td>\n",
       "      <td>NaN</td>\n",
       "      <td>NaN</td>\n",
       "      <td>NaN</td>\n",
       "    </tr>\n",
       "    <tr>\n",
       "      <th>2</th>\n",
       "      <td>3</td>\n",
       "      <td>True</td>\n",
       "      <td>02 23, 2015</td>\n",
       "      <td>A1YJWEXHQBWK2B</td>\n",
       "      <td>0700026657</td>\n",
       "      <td>Vincent G. Mezera</td>\n",
       "      <td>ok game.</td>\n",
       "      <td>Three Stars</td>\n",
       "      <td>1424649600</td>\n",
       "      <td>NaN</td>\n",
       "      <td>NaN</td>\n",
       "      <td>NaN</td>\n",
       "    </tr>\n",
       "    <tr>\n",
       "      <th>3</th>\n",
       "      <td>2</td>\n",
       "      <td>True</td>\n",
       "      <td>02 20, 2015</td>\n",
       "      <td>A2204E1TH211HT</td>\n",
       "      <td>0700026657</td>\n",
       "      <td>Grandma KR</td>\n",
       "      <td>found the game a bit too complicated, not what...</td>\n",
       "      <td>Two Stars</td>\n",
       "      <td>1424390400</td>\n",
       "      <td>NaN</td>\n",
       "      <td>NaN</td>\n",
       "      <td>NaN</td>\n",
       "    </tr>\n",
       "    <tr>\n",
       "      <th>4</th>\n",
       "      <td>5</td>\n",
       "      <td>True</td>\n",
       "      <td>12 25, 2014</td>\n",
       "      <td>A2RF5B5H74JLPE</td>\n",
       "      <td>0700026657</td>\n",
       "      <td>jon</td>\n",
       "      <td>great game, I love it and have played it since...</td>\n",
       "      <td>love this game</td>\n",
       "      <td>1419465600</td>\n",
       "      <td>NaN</td>\n",
       "      <td>NaN</td>\n",
       "      <td>NaN</td>\n",
       "    </tr>\n",
       "  </tbody>\n",
       "</table>\n",
       "</div>"
      ],
      "text/plain": [
       "   overall  verified   reviewTime      reviewerID        asin  \\\n",
       "0        5      True  10 17, 2015  A1HP7NVNPFMA4N  0700026657   \n",
       "1        4     False  07 27, 2015  A1JGAP0185YJI6  0700026657   \n",
       "2        3      True  02 23, 2015  A1YJWEXHQBWK2B  0700026657   \n",
       "3        2      True  02 20, 2015  A2204E1TH211HT  0700026657   \n",
       "4        5      True  12 25, 2014  A2RF5B5H74JLPE  0700026657   \n",
       "\n",
       "        reviewerName                                         reviewText  \\\n",
       "0        Ambrosia075  This game is a bit hard to get the hang of, bu...   \n",
       "1             travis  I played it a while but it was alright. The st...   \n",
       "2  Vincent G. Mezera                                           ok game.   \n",
       "3         Grandma KR  found the game a bit too complicated, not what...   \n",
       "4                jon  great game, I love it and have played it since...   \n",
       "\n",
       "                                       summary  unixReviewTime vote style  \\\n",
       "0                  but when you do it's great.      1445040000  NaN   NaN   \n",
       "1  But in spite of that it was fun, I liked it      1437955200  NaN   NaN   \n",
       "2                                  Three Stars      1424649600  NaN   NaN   \n",
       "3                                    Two Stars      1424390400  NaN   NaN   \n",
       "4                               love this game      1419465600  NaN   NaN   \n",
       "\n",
       "  image  \n",
       "0   NaN  \n",
       "1   NaN  \n",
       "2   NaN  \n",
       "3   NaN  \n",
       "4   NaN  "
      ]
     },
     "execution_count": 3,
     "metadata": {},
     "output_type": "execute_result"
    }
   ],
   "source": [
    "#data overview\n",
    "df.head()"
   ]
  },
  {
   "cell_type": "code",
   "execution_count": 4,
   "id": "391754bd",
   "metadata": {},
   "outputs": [
    {
     "data": {
      "text/plain": [
       "(497577,\n",
       " overall                0\n",
       " verified               0\n",
       " reviewTime             0\n",
       " reviewerID             0\n",
       " asin                   0\n",
       " reviewerName          76\n",
       " reviewText           158\n",
       " summary              109\n",
       " unixReviewTime         0\n",
       " vote              389784\n",
       " style             208340\n",
       " image             493943\n",
       " dtype: int64)"
      ]
     },
     "execution_count": 4,
     "metadata": {},
     "output_type": "execute_result"
    }
   ],
   "source": [
    "len(df) , df.isna().sum()"
   ]
  },
  {
   "cell_type": "code",
   "execution_count": 5,
   "id": "bb5f6898",
   "metadata": {},
   "outputs": [],
   "source": [
    "dg = df[['reviewerID', 'asin' , 'overall' , 'reviewText']]\n",
    "#summary are highly correlated with the overall field\n",
    "#other columns have to much missed values"
   ]
  },
  {
   "cell_type": "code",
   "execution_count": 6,
   "id": "2d222a6b",
   "metadata": {},
   "outputs": [
    {
     "data": {
      "text/plain": [
       "reviewerID      0\n",
       "asin            0\n",
       "overall         0\n",
       "reviewText    158\n",
       "dtype: int64"
      ]
     },
     "execution_count": 6,
     "metadata": {},
     "output_type": "execute_result"
    }
   ],
   "source": [
    "dg.isna().sum()"
   ]
  },
  {
   "cell_type": "code",
   "execution_count": 7,
   "id": "74944b57",
   "metadata": {},
   "outputs": [],
   "source": [
    "#dg[dg.reviewText.isna()]\n",
    "#lets fill nan value"
   ]
  },
  {
   "cell_type": "code",
   "execution_count": 8,
   "id": "da729531",
   "metadata": {},
   "outputs": [
    {
     "data": {
      "text/plain": [
       "reviewText\n",
       "good         2302\n",
       "great        1592\n",
       "Good         1532\n",
       "Great        1318\n",
       "Excellent    1238\n",
       "Name: count, dtype: int64"
      ]
     },
     "execution_count": 8,
     "metadata": {},
     "output_type": "execute_result"
    }
   ],
   "source": [
    "dg['reviewText'].value_counts()[:5]"
   ]
  },
  {
   "cell_type": "code",
   "execution_count": 9,
   "id": "c336b859",
   "metadata": {},
   "outputs": [
    {
     "data": {
      "text/plain": [
       "'one'"
      ]
     },
     "execution_count": 9,
     "metadata": {},
     "output_type": "execute_result"
    }
   ],
   "source": [
    "fill_by_rating = lambda x: 'one' if x==1 else ('two' if x==2 else ('three' if x==3 else ('four' if x==4 else 'five')))\n",
    "fill_by_rating(1)"
   ]
  },
  {
   "cell_type": "code",
   "execution_count": 10,
   "id": "b475bee0",
   "metadata": {},
   "outputs": [
    {
     "name": "stderr",
     "output_type": "stream",
     "text": [
      "/var/folders/qr/648nq1y952b_0q0x078yf2gw0000gn/T/ipykernel_42825/1432989462.py:1: SettingWithCopyWarning: \n",
      "A value is trying to be set on a copy of a slice from a DataFrame.\n",
      "Try using .loc[row_indexer,col_indexer] = value instead\n",
      "\n",
      "See the caveats in the documentation: https://pandas.pydata.org/pandas-docs/stable/user_guide/indexing.html#returning-a-view-versus-a-copy\n",
      "  dg['reviewText'] = dg.apply(lambda x: fill_by_rating(x.overall) if pd.isna(x.reviewText) else x.reviewText , axis=1)\n"
     ]
    },
    {
     "data": {
      "text/plain": [
       "0"
      ]
     },
     "execution_count": 10,
     "metadata": {},
     "output_type": "execute_result"
    }
   ],
   "source": [
    "dg['reviewText'] = dg.apply(lambda x: fill_by_rating(x.overall) if pd.isna(x.reviewText) else x.reviewText , axis=1)\n",
    "dg.reviewText.isna().sum() #no more nan"
   ]
  },
  {
   "cell_type": "code",
   "execution_count": 11,
   "id": "d371054c",
   "metadata": {},
   "outputs": [],
   "source": [
    "plots = dg.reviewText.to_numpy()\n",
    "ids = dg.asin.to_numpy()"
   ]
  },
  {
   "cell_type": "code",
   "execution_count": 12,
   "id": "ad42d57b",
   "metadata": {},
   "outputs": [
    {
     "name": "stderr",
     "output_type": "stream",
     "text": [
      "/Users/lun/opt/anaconda3/envs/py310/lib/python3.10/site-packages/tqdm/auto.py:21: TqdmWarning: IProgress not found. Please update jupyter and ipywidgets. See https://ipywidgets.readthedocs.io/en/stable/user_install.html\n",
      "  from .autonotebook import tqdm as notebook_tqdm\n"
     ]
    }
   ],
   "source": [
    "#extract features from text description using simple bag of words as an example\n",
    "from cornac.data import TextModality\n",
    "from cornac.data.text import BaseTokenizer\n",
    "\n",
    "item_text_modality = TextModality(corpus=plots, ids=ids, \n",
    "                                 tokenizer=BaseTokenizer(sep=' ', stop_words='english'),\n",
    "                                 max_vocab=5000, max_doc_freq=0.5)"
   ]
  },
  {
   "cell_type": "code",
   "execution_count": 13,
   "id": "438431df",
   "metadata": {},
   "outputs": [],
   "source": [
    "import cornac\n",
    "from cornac.models import VAECF\n",
    "from cornac.eval_methods import RatioSplit\n",
    "from cornac.hyperopt import Discrete\n",
    "from cornac.hyperopt import RandomSearch"
   ]
  },
  {
   "cell_type": "code",
   "execution_count": 14,
   "id": "9a671b5c",
   "metadata": {},
   "outputs": [],
   "source": [
    "data = dg.to_numpy()"
   ]
  },
  {
   "cell_type": "code",
   "execution_count": 15,
   "id": "acf775e4",
   "metadata": {},
   "outputs": [],
   "source": [
    "def calculate_rating_threshold(df):\n",
    "    \"\"\"Returns the first percentile of attribute value rankings\"\"\"\n",
    "    # print(df[\"rating\"].nunique())\n",
    "    if df[\"overall\"].nunique() == 1:\n",
    "        rating_threshold = df[\"overall\"][0] / 2\n",
    "    else:\n",
    "        rating_threshold = df[\"overall\"].quantile(\n",
    "            q=0.01, interpolation=\"linear\")  # use it in a training\n",
    "    #print(\"A rating threshold is \" + str(round(rating_threshold, 3)) + '\\n')\n",
    "    return rating_threshold"
   ]
  },
  {
   "cell_type": "code",
   "execution_count": 16,
   "id": "c06f6a7a",
   "metadata": {},
   "outputs": [
    {
     "name": "stdout",
     "output_type": "stream",
     "text": [
      "rating_threshold = 1.0\n",
      "exclude_unknowns = True\n"
     ]
    },
    {
     "name": "stderr",
     "output_type": "stream",
     "text": [
      "/Users/lun/opt/anaconda3/envs/py310/lib/python3.10/site-packages/cornac/data/dataset.py:339: UserWarning: 11842 duplicated observations are removed!\n",
      "  warnings.warn(\"%d duplicated observations are removed!\" % dup_count)\n"
     ]
    },
    {
     "name": "stdout",
     "output_type": "stream",
     "text": [
      "---\n",
      "Training data:\n",
      "Number of users = 55164\n",
      "Number of items = 17394\n",
      "Number of ratings = 336461\n",
      "Max rating = 5.0\n",
      "Min rating = 1.0\n",
      "Global mean = 4.2\n"
     ]
    },
    {
     "name": "stderr",
     "output_type": "stream",
     "text": [
      "/Users/lun/opt/anaconda3/envs/py310/lib/python3.10/site-packages/cornac/data/dataset.py:339: UserWarning: 952 duplicated observations are removed!\n",
      "  warnings.warn(\"%d duplicated observations are removed!\" % dup_count)\n",
      "/Users/lun/opt/anaconda3/envs/py310/lib/python3.10/site-packages/cornac/data/dataset.py:339: UserWarning: 227 duplicated observations are removed!\n",
      "  warnings.warn(\"%d duplicated observations are removed!\" % dup_count)\n"
     ]
    },
    {
     "name": "stdout",
     "output_type": "stream",
     "text": [
      "---\n",
      "Test data:\n",
      "Number of users = 55164\n",
      "Number of items = 17394\n",
      "Number of ratings = 98327\n",
      "Number of unknown users = 0\n",
      "Number of unknown items = 0\n",
      "---\n",
      "Validation data:\n",
      "Number of users = 55164\n",
      "Number of items = 17394\n",
      "Number of ratings = 49412\n",
      "---\n",
      "Total users = 55164\n",
      "Total items = 17394\n"
     ]
    }
   ],
   "source": [
    "#make our dataset with train test val split\n",
    "rating_threshold = calculate_rating_threshold(dg)\n",
    "ratio_split = RatioSplit(data, test_size=0.2, val_size=0.1,  exclude_unknowns=True,\n",
    "                         #item_text=item_text_modality,\n",
    "                         verbose=True, seed=123, rating_threshold=rating_threshold,\n",
    "                         )"
   ]
  },
  {
   "cell_type": "code",
   "execution_count": 17,
   "id": "9b2244f9",
   "metadata": {},
   "outputs": [],
   "source": [
    "# Instantiate evaluation measures\n",
    "rec_5 = cornac.metrics.Recall(k=5)\n",
    "ndcg_5 = cornac.metrics.NDCG(k=5)\n",
    "auc = cornac.metrics.AUC()\n",
    "n_trails =2\n",
    "#initiate models\n",
    "vaecf = cornac.models.VAECF(\n",
    "    k=5,\n",
    "    autoencoder_structure=[20],\n",
    "    act_fn=\"tanh\",\n",
    "    likelihood=\"mult\",\n",
    "    n_epochs=20,\n",
    "    batch_size=100,\n",
    "    learning_rate=0.001,\n",
    "    beta=1.0,\n",
    "    seed=123,\n",
    "    use_gpu=True,\n",
    "    verbose=True,\n",
    ")\n",
    "\n",
    "#example params search \n",
    "rs_vaecf = RandomSearch(\n",
    "            model=vaecf,\n",
    "            space=[\n",
    "                #Discrete(\"n_epochs\", np.arange(9, 11, 2)),\n",
    "                Discrete(\"beta\", np.arange(0.9, 1.1, 0.1)),\n",
    "                #Discrete(\"k\", np.arange(10, 14, 2)),\n",
    "                #Discrete(\"act_fn\", ['sigmoid', 'tanh','elu', 'relu', 'relu6']),\n",
    "                #Discrete(\"batch_size\", np.arange(64, 256, 64)),\n",
    "                #Discrete(\"learning_rate\", np.arange(0.001, 0.002, 0.001))\n",
    "            ],\n",
    "            metric=ndcg_5,\n",
    "            eval_method=ratio_split,\n",
    "            n_trails=n_trails)"
   ]
  },
  {
   "cell_type": "code",
   "execution_count": 18,
   "id": "31ceb294",
   "metadata": {},
   "outputs": [
    {
     "name": "stdout",
     "output_type": "stream",
     "text": [
      "\n",
      "[RandomSearch_VAECF] Training started!\n",
      "Evaluating: {'beta': 1.1}\n"
     ]
    },
    {
     "name": "stderr",
     "output_type": "stream",
     "text": [
      "100%|███████████████████████████████| 20/20 [04:17<00:00, 12.89s/it, loss=0.527]\n"
     ]
    },
    {
     "name": "stdout",
     "output_type": "stream",
     "text": [
      "Evaluating: {'beta': 1.0}\n"
     ]
    },
    {
     "name": "stderr",
     "output_type": "stream",
     "text": [
      "100%|███████████████████████████████| 20/20 [04:15<00:00, 12.75s/it, loss=0.525]\n"
     ]
    },
    {
     "name": "stdout",
     "output_type": "stream",
     "text": [
      "Best parameter settings: {'beta': 1.1}\n",
      "NDCG@5 = 0.0205\n",
      "\n",
      "[RandomSearch_VAECF] Evaluation started!\n"
     ]
    },
    {
     "name": "stderr",
     "output_type": "stream",
     "text": [
      "Ranking: 100%|███████████████████████████| 43480/43480 [01:39<00:00, 436.91it/s]\n",
      "Ranking: 100%|███████████████████████████| 30184/30184 [01:07<00:00, 448.29it/s]"
     ]
    },
    {
     "name": "stdout",
     "output_type": "stream",
     "text": [
      "\n",
      "VALIDATION:\n",
      "...\n",
      "                   |    AUC | NDCG@5 | Recall@5 | Time (s)\n",
      "------------------ + ------ + ------ + -------- + --------\n",
      "RandomSearch_VAECF | 0.8626 | 0.0205 |   0.0282 |  67.3423\n",
      "\n",
      "TEST:\n",
      "...\n",
      "                   |    AUC | NDCG@5 | Recall@5 | Train (s) | Test (s)\n",
      "------------------ + ------ + ------ + -------- + --------- + --------\n",
      "RandomSearch_VAECF | 0.8639 | 0.0238 |   0.0296 |  634.2831 |  99.5369\n",
      "\n"
     ]
    },
    {
     "name": "stderr",
     "output_type": "stream",
     "text": [
      "\n"
     ]
    }
   ],
   "source": [
    "def find_best_params(ratio_split , n_trails =2 ):\n",
    "    # Put everything together into an experiment and run it\n",
    "    ndcg_5 = cornac.metrics.NDCG(k=5)\n",
    "\n",
    "    vaecf = cornac.models.VAECF(\n",
    "        k=5,\n",
    "        autoencoder_structure=[20],\n",
    "        act_fn=\"tanh\",\n",
    "        likelihood=\"mult\",\n",
    "        n_epochs=20,\n",
    "        batch_size=100,\n",
    "        learning_rate=0.001,\n",
    "        beta=1.0,\n",
    "        seed=123,\n",
    "        use_gpu=True,\n",
    "        verbose=True,\n",
    "    )\n",
    "    rs_vaecf = RandomSearch(\n",
    "                model=vaecf,\n",
    "                space=[\n",
    "                    #Discrete(\"n_epochs\", np.arange(9, 11, 2)),\n",
    "                    Discrete(\"beta\", np.arange(0.9, 1.1, 0.1)),\n",
    "                    #Discrete(\"k\", np.arange(10, 14, 2)),\n",
    "                    #Discrete(\"act_fn\", ['sigmoid', 'tanh','elu', 'relu', 'relu6']),\n",
    "                    #Discrete(\"batch_size\", np.arange(64, 256, 64)),\n",
    "                    #Discrete(\"learning_rate\", np.arange(0.001, 0.002, 0.001))\n",
    "                ],\n",
    "                metric=ndcg_5,\n",
    "                eval_method=ratio_split,\n",
    "                n_trails=n_trails)\n",
    "\n",
    "    cornac.Experiment(\n",
    "        eval_method=ratio_split,\n",
    "        models=[ rs_vaecf ],\n",
    "        metrics=[rec_5, ndcg_5, auc],\n",
    "        user_based=True,\n",
    "    ).run()\n",
    "    return rs_vaecf.best_params\n",
    "best_params = find_best_params(ratio_split)"
   ]
  },
  {
   "cell_type": "code",
   "execution_count": 19,
   "id": "e8794670",
   "metadata": {},
   "outputs": [
    {
     "data": {
      "text/plain": [
       "{'beta': 1.1}"
      ]
     },
     "execution_count": 19,
     "metadata": {},
     "output_type": "execute_result"
    }
   ],
   "source": [
    "best_params"
   ]
  },
  {
   "cell_type": "code",
   "execution_count": 20,
   "id": "8fd51d2b",
   "metadata": {},
   "outputs": [
    {
     "name": "stdout",
     "output_type": "stream",
     "text": [
      "\n",
      "[SVD] Training started!\n"
     ]
    },
    {
     "name": "stderr",
     "output_type": "stream",
     "text": [
      "100%|██████████████████████████| 30/30 [00:00<00:00, 245.50it/s, loss=123359.63]\n"
     ]
    },
    {
     "name": "stdout",
     "output_type": "stream",
     "text": [
      "Optimization finished!\n",
      "\n",
      "[SVD] Evaluation started!\n"
     ]
    },
    {
     "name": "stderr",
     "output_type": "stream",
     "text": [
      "Ranking: 100%|███████████████████████████| 43480/43480 [01:24<00:00, 514.22it/s]\n",
      "Ranking: 100%|███████████████████████████| 30184/30184 [00:57<00:00, 527.55it/s]\n"
     ]
    },
    {
     "name": "stdout",
     "output_type": "stream",
     "text": [
      "\n",
      "[VAECF] Training started!\n"
     ]
    },
    {
     "name": "stderr",
     "output_type": "stream",
     "text": [
      "100%|███████████████████████████████| 20/20 [03:57<00:00, 11.90s/it, loss=0.527]\n"
     ]
    },
    {
     "name": "stdout",
     "output_type": "stream",
     "text": [
      "\n",
      "[VAECF] Evaluation started!\n"
     ]
    },
    {
     "name": "stderr",
     "output_type": "stream",
     "text": [
      "Ranking: 100%|███████████████████████████| 43480/43480 [01:39<00:00, 435.50it/s]\n",
      "Ranking: 100%|███████████████████████████| 30184/30184 [01:08<00:00, 442.98it/s]"
     ]
    },
    {
     "name": "stdout",
     "output_type": "stream",
     "text": [
      "\n",
      "VALIDATION:\n",
      "...\n",
      "      |    AUC | NDCG@5 | Recall@5 | Time (s)\n",
      "----- + ------ + ------ + -------- + --------\n",
      "SVD   | 0.5549 | 0.0002 |   0.0003 |  57.2242\n",
      "VAECF | 0.8626 | 0.0205 |   0.0282 |  68.1492\n",
      "\n",
      "TEST:\n",
      "...\n",
      "      |    AUC | NDCG@5 | Recall@5 | Train (s) | Test (s)\n",
      "----- + ------ + ------ + -------- + --------- + --------\n",
      "SVD   | 0.5535 | 0.0002 |   0.0002 |    0.1422 |  84.5726\n",
      "VAECF | 0.8639 | 0.0238 |   0.0296 |  237.9762 |  99.8549\n",
      "\n"
     ]
    },
    {
     "name": "stderr",
     "output_type": "stream",
     "text": [
      "\n"
     ]
    }
   ],
   "source": [
    "# train 2 models , we can assign more epochs after finding the best parameters\n",
    "rec_5 = cornac.metrics.Recall(k=5)\n",
    "ndcg_5 = cornac.metrics.NDCG(k=5)\n",
    "auc = cornac.metrics.AUC()\n",
    "    \n",
    "svd = cornac.models.SVD(\n",
    "    k=5, max_iter=30, learning_rate=0.01, lambda_reg=0.02, verbose=True\n",
    ")\n",
    "\n",
    "vaecf = cornac.models.VAECF(\n",
    "        k=5,\n",
    "        autoencoder_structure=[20],\n",
    "        act_fn=\"tanh\",\n",
    "        likelihood=\"mult\",\n",
    "        n_epochs=20,\n",
    "        batch_size=100,\n",
    "        learning_rate=0.001,\n",
    "        beta=best_params[\"beta\"], #лучшие параметры\n",
    "        seed=123,\n",
    "        use_gpu=True,\n",
    "        verbose=True,\n",
    "        )\n",
    "# start models training\n",
    "cornac.Experiment(\n",
    "    eval_method=ratio_split,\n",
    "    models=[ svd , vaecf],\n",
    "    metrics=[rec_5, ndcg_5, auc],\n",
    "    user_based=True,\n",
    ").run()"
   ]
  },
  {
   "cell_type": "code",
   "execution_count": 21,
   "id": "262f62ba",
   "metadata": {},
   "outputs": [],
   "source": [
    "#VAECF | 0.8438 | 0.0165 |   0.0209 | 3528.3831 | 1718.8671 - results without text rewiw information"
   ]
  },
  {
   "cell_type": "code",
   "execution_count": 22,
   "id": "43facd56",
   "metadata": {},
   "outputs": [
    {
     "data": {
      "text/plain": [
       "['B000XJNTNS', 'B002BRZ9G0', 'B0009VXBAQ', 'B000ZKA0J6', 'B000FO4KO8']"
      ]
     },
     "execution_count": 22,
     "metadata": {},
     "output_type": "execute_result"
    }
   ],
   "source": [
    "#sample inference\n",
    "uid = 'A1HP7NVNPFMA4N'\n",
    "k=5\n",
    "remove_seen = True\n",
    "train_set = ratio_split.train_set\n",
    "vaecf.recommend(\n",
    "        user_id=uid,\n",
    "        k=k,\n",
    "        remove_seen=remove_seen,\n",
    "        train_set=ratio_split.train_set)"
   ]
  },
  {
   "cell_type": "code",
   "execution_count": 23,
   "id": "ca70a5fe",
   "metadata": {},
   "outputs": [
    {
     "name": "stdout",
     "output_type": "stream",
     "text": [
      "VAECF model is saved to trained_model/VAECF/2024-01-01_19-11-29-881086.pkl\n"
     ]
    },
    {
     "data": {
      "text/plain": [
       "'trained_model/VAECF/2024-01-01_19-11-29-881086.pkl'"
      ]
     },
     "execution_count": 23,
     "metadata": {},
     "output_type": "execute_result"
    }
   ],
   "source": [
    "vaecf.save(\"trained_model\")"
   ]
  },
  {
   "cell_type": "code",
   "execution_count": 24,
   "id": "50e9f2a3",
   "metadata": {},
   "outputs": [
    {
     "name": "stdout",
     "output_type": "stream",
     "text": [
      "rating_threshold = 1.0\n",
      "exclude_unknowns = True\n"
     ]
    },
    {
     "name": "stderr",
     "output_type": "stream",
     "text": [
      "/Users/lun/opt/anaconda3/envs/py310/lib/python3.10/site-packages/cornac/data/dataset.py:339: UserWarning: 11842 duplicated observations are removed!\n",
      "  warnings.warn(\"%d duplicated observations are removed!\" % dup_count)\n"
     ]
    },
    {
     "name": "stdout",
     "output_type": "stream",
     "text": [
      "---\n",
      "Training data:\n",
      "Number of users = 55164\n",
      "Number of items = 17394\n",
      "Number of ratings = 336461\n",
      "Max rating = 5.0\n",
      "Min rating = 1.0\n",
      "Global mean = 4.2\n",
      "---\n",
      "Test data:\n",
      "Number of users = 55164\n",
      "Number of items = 17394\n",
      "Number of ratings = 98327\n",
      "Number of unknown users = 0\n",
      "Number of unknown items = 0\n",
      "---\n",
      "Validation data:\n",
      "Number of users = 55164\n",
      "Number of items = 17394\n",
      "Number of ratings = 49412\n",
      "---\n",
      "Total users = 55164\n",
      "Total items = 17394\n"
     ]
    },
    {
     "name": "stderr",
     "output_type": "stream",
     "text": [
      "/Users/lun/opt/anaconda3/envs/py310/lib/python3.10/site-packages/cornac/data/dataset.py:339: UserWarning: 952 duplicated observations are removed!\n",
      "  warnings.warn(\"%d duplicated observations are removed!\" % dup_count)\n",
      "/Users/lun/opt/anaconda3/envs/py310/lib/python3.10/site-packages/cornac/data/dataset.py:339: UserWarning: 227 duplicated observations are removed!\n",
      "  warnings.warn(\"%d duplicated observations are removed!\" % dup_count)\n"
     ]
    }
   ],
   "source": [
    "ratio_split = RatioSplit(data, test_size=0.2, val_size=0.1,  exclude_unknowns=True,\n",
    "                         #item_text=item_text_modality,\n",
    "                         verbose=True, seed=123, rating_threshold=rating_threshold, )\n",
    "train_set = ratio_split.train_set\n",
    "#save dataset if we want t use remove_seen \n",
    "\n",
    "with open('trained_model/VAECF/train_set.pkl', 'wb') as handle:\n",
    "    pickle.dump(train_set, handle, protocol=pickle.HIGHEST_PROTOCOL)"
   ]
  },
  {
   "cell_type": "code",
   "execution_count": null,
   "id": "31cb9899",
   "metadata": {},
   "outputs": [],
   "source": []
  }
 ],
 "metadata": {
  "kernelspec": {
   "display_name": "Python 3 (ipykernel)",
   "language": "python",
   "name": "python3"
  },
  "language_info": {
   "codemirror_mode": {
    "name": "ipython",
    "version": 3
   },
   "file_extension": ".py",
   "mimetype": "text/x-python",
   "name": "python",
   "nbconvert_exporter": "python",
   "pygments_lexer": "ipython3",
   "version": "3.10.12"
  }
 },
 "nbformat": 4,
 "nbformat_minor": 5
}
